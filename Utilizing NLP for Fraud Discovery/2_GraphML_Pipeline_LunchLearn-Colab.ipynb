{
 "cells": [
  {
   "cell_type": "code",
   "execution_count": 1,
   "metadata": {},
   "outputs": [
    {
     "name": "stdout",
     "output_type": "stream",
     "text": [
      "Python Version:  3.8.5\n",
      "NetworkX Version:  2.5\n"
     ]
    }
   ],
   "source": [
    "import networkx as nx\n",
    "import numpy as np\n",
    "import pandas as pd\n",
    "import matplotlib.pyplot as plt\n",
    "import matplotlib.cm as cm\n",
    "from platform import python_version\n",
    "\n",
    "%matplotlib inline\n",
    "\n",
    "print(\"Python Version: \", python_version())\n",
    "print(\"NetworkX Version: \", nx.__version__)"
   ]
  },
  {
   "cell_type": "markdown",
   "metadata": {},
   "source": [
    "### Read in data"
   ]
  },
  {
   "cell_type": "code",
   "execution_count": 2,
   "metadata": {},
   "outputs": [
    {
     "name": "stdout",
     "output_type": "stream",
     "text": [
      "Shape of digraph : (35838, 3)\n",
      "Shape of undirected graph : (35838, 3)\n"
     ]
    }
   ],
   "source": [
    "#Create dataframe for directed graph: \n",
    "digraph = pd.read_csv(\"2_directed_graph.csv\", index_col=0)\n",
    "print(\"Shape of digraph :\", digraph.shape)\n",
    "\n",
    "#Create dataframe for undirected graph: \n",
    "undir_graph = pd.read_csv(\"2_undirected_graph.csv\", index_col=0)\n",
    "print(\"Shape of undirected graph :\", undir_graph.shape)"
   ]
  },
  {
   "cell_type": "code",
   "execution_count": 3,
   "metadata": {},
   "outputs": [
    {
     "data": {
      "text/html": [
       "<div>\n",
       "<style scoped>\n",
       "    .dataframe tbody tr th:only-of-type {\n",
       "        vertical-align: middle;\n",
       "    }\n",
       "\n",
       "    .dataframe tbody tr th {\n",
       "        vertical-align: top;\n",
       "    }\n",
       "\n",
       "    .dataframe thead th {\n",
       "        text-align: right;\n",
       "    }\n",
       "</style>\n",
       "<table border=\"1\" class=\"dataframe\">\n",
       "  <thead>\n",
       "    <tr style=\"text-align: right;\">\n",
       "      <th></th>\n",
       "      <th>From</th>\n",
       "      <th>To</th>\n",
       "      <th>weight</th>\n",
       "    </tr>\n",
       "  </thead>\n",
       "  <tbody>\n",
       "    <tr>\n",
       "      <th>0</th>\n",
       "      <td>1.10043390.2@multexinvestornetwork.com</td>\n",
       "      <td>jwillia@enron.com</td>\n",
       "      <td>1.0</td>\n",
       "    </tr>\n",
       "    <tr>\n",
       "      <th>1</th>\n",
       "      <td>1.3594.f00jdu1qa40nkp.1@mailer.realage.com</td>\n",
       "      <td>brapp@enron.com</td>\n",
       "      <td>1.0</td>\n",
       "    </tr>\n",
       "  </tbody>\n",
       "</table>\n",
       "</div>"
      ],
      "text/plain": [
       "                                         From                 To  weight\n",
       "0      1.10043390.2@multexinvestornetwork.com  jwillia@enron.com     1.0\n",
       "1  1.3594.f00jdu1qa40nkp.1@mailer.realage.com    brapp@enron.com     1.0"
      ]
     },
     "execution_count": 3,
     "metadata": {},
     "output_type": "execute_result"
    }
   ],
   "source": [
    "digraph.head(2)"
   ]
  },
  {
   "cell_type": "code",
   "execution_count": 4,
   "metadata": {},
   "outputs": [
    {
     "data": {
      "text/html": [
       "<div>\n",
       "<style scoped>\n",
       "    .dataframe tbody tr th:only-of-type {\n",
       "        vertical-align: middle;\n",
       "    }\n",
       "\n",
       "    .dataframe tbody tr th {\n",
       "        vertical-align: top;\n",
       "    }\n",
       "\n",
       "    .dataframe thead th {\n",
       "        text-align: right;\n",
       "    }\n",
       "</style>\n",
       "<table border=\"1\" class=\"dataframe\">\n",
       "  <thead>\n",
       "    <tr style=\"text-align: right;\">\n",
       "      <th></th>\n",
       "      <th>weight</th>\n",
       "      <th>src</th>\n",
       "      <th>dst</th>\n",
       "    </tr>\n",
       "  </thead>\n",
       "  <tbody>\n",
       "    <tr>\n",
       "      <th>0</th>\n",
       "      <td>1.0</td>\n",
       "      <td>1.10043390.2@multexinvestornetwork.com</td>\n",
       "      <td>jwillia@enron.com</td>\n",
       "    </tr>\n",
       "    <tr>\n",
       "      <th>1</th>\n",
       "      <td>1.0</td>\n",
       "      <td>1.3594.f00jdu1qa40nkp.1@mailer.realage.com</td>\n",
       "      <td>brapp@enron.com</td>\n",
       "    </tr>\n",
       "  </tbody>\n",
       "</table>\n",
       "</div>"
      ],
      "text/plain": [
       "   weight                                         src                dst\n",
       "0     1.0      1.10043390.2@multexinvestornetwork.com  jwillia@enron.com\n",
       "1     1.0  1.3594.f00jdu1qa40nkp.1@mailer.realage.com    brapp@enron.com"
      ]
     },
     "execution_count": 4,
     "metadata": {},
     "output_type": "execute_result"
    }
   ],
   "source": [
    "undir_graph.head(2)"
   ]
  },
  {
   "cell_type": "markdown",
   "metadata": {},
   "source": [
    "### Build the Graphs by Loading Data into NetworkX "
   ]
  },
  {
   "cell_type": "code",
   "execution_count": 5,
   "metadata": {},
   "outputs": [],
   "source": [
    "#Create a digraph from our dataframe using .from_pandas_edgelist() and setting create_using to nx.DiGraph()\n",
    "G = nx.from_pandas_edgelist(digraph, 'From', 'To', edge_attr = ['weight'], create_using=nx.DiGraph())\n",
    "\n",
    "#Create an undirected graph from our dataframe using .from_pandas_edgelist()\n",
    "G_un = nx.from_pandas_edgelist(undir_graph, 'src', 'dst', edge_attr = ['weight'], create_using=nx.Graph())"
   ]
  },
  {
   "cell_type": "code",
   "execution_count": 6,
   "metadata": {},
   "outputs": [
    {
     "name": "stdout",
     "output_type": "stream",
     "text": [
      "Is G a digraph?  True\n",
      "Number of edges in G:  35838\n",
      "\n",
      "\n",
      "Is G_un a digraph?  False\n",
      "Number of edges in G_un:  34651\n"
     ]
    }
   ],
   "source": [
    "#Check our results\n",
    "print(\"Is G a digraph? \", G.is_directed())\n",
    "print(\"Number of edges in G: \", len(G.edges()))\n",
    "print('\\n')\n",
    "print(\"Is G_un a digraph? \", G_un.is_directed())\n",
    "print(\"Number of edges in G_un: \", len(G_un.edges()))"
   ]
  },
  {
   "cell_type": "code",
   "execution_count": 7,
   "metadata": {},
   "outputs": [
    {
     "name": "stdout",
     "output_type": "stream",
     "text": [
      "[('phillip.allen@enron.com', 'andrea.richards@enron.com', {'weight': 1.0}), ('phillip.allen@enron.com', 'anne.bike@enron.com', {'weight': 1.0}), ('phillip.allen@enron.com', 'bs_stone@yahoo.com', {'weight': 1.0}), ('phillip.allen@enron.com', 'cbpres@austin.rr.com', {'weight': 1.5}), ('phillip.allen@enron.com', 'christi.nicolay@enron.com', {'weight': 0.0769230769230769}), ('phillip.allen@enron.com', 'fescofield@1411west.com', {'weight': 1.0}), ('phillip.allen@enron.com', 'fletcher.sturm@enron.com', {'weight': 0.5}), ('phillip.allen@enron.com', 'gallen@thermon.com', {'weight': 1.0}), ('phillip.allen@enron.com', 'hunter.shively@enron.com', {'weight': 0.5}), ('phillip.allen@enron.com', 'ina.rangel@enron.com', {'weight': 3.0}), ('phillip.allen@enron.com', 'jacquestc@aol.com', {'weight': 1.0}), ('phillip.allen@enron.com', 'james.steffes@enron.com', {'weight': 1.0769230769230769}), ('phillip.allen@enron.com', 'jeff.dasovich@enron.com', {'weight': 0.0769230769230769}), ('phillip.allen@enron.com', 'joe.hartsoe@enron.com', {'weight': 0.0769230769230769}), ('phillip.allen@enron.com', 'jsmith@austintx.com', {'weight': 4.0}), ('phillip.allen@enron.com', 'kathy.moore@enron.com', {'weight': 1.0}), ('phillip.allen@enron.com', 'keith.holst@enron.com', {'weight': 1.5}), ('phillip.allen@enron.com', 'lkuch@mh.com', {'weight': 1.0}), ('phillip.allen@enron.com', 'llewter@austin.rr.com', {'weight': 1.5}), ('phillip.allen@enron.com', 'mary.hain@enron.com', {'weight': 0.0769230769230769}), ('phillip.allen@enron.com', 'matthew.lenhart@enron.com', {'weight': 1.0}), ('phillip.allen@enron.com', 'mike.grigsby@enron.com', {'weight': 2.5}), ('phillip.allen@enron.com', 'pallen70@hotmail.com', {'weight': 4.0}), ('phillip.allen@enron.com', 'pallen@enron.com', {'weight': 0.0769230769230769}), ('phillip.allen@enron.com', 'paula.harris@enron.com', {'weight': 1.0}), ('phillip.allen@enron.com', 'pkaufma@enron.com', {'weight': 0.0769230769230769}), ('phillip.allen@enron.com', 'rebecca.cantrell@enron.com', {'weight': 0.0769230769230769}), ('phillip.allen@enron.com', 'richard.sanders@enron.com', {'weight': 0.0769230769230769}), ('phillip.allen@enron.com', 'richard.shapiro@enron.com', {'weight': 0.0769230769230769}), ('phillip.allen@enron.com', 'scott.tholan@enron.com', {'weight': 1.0}), ('phillip.allen@enron.com', 'stephanie.miller@enron.com', {'weight': 0.0769230769230769}), ('phillip.allen@enron.com', 'steven.kean@enron.com', {'weight': 0.0769230769230769}), ('phillip.allen@enron.com', 'stouchstone@natsource.com', {'weight': 1.0}), ('phillip.allen@enron.com', 'susan.mara@enron.com', {'weight': 0.0769230769230769}), ('phillip.allen@enron.com', 'tara.sweitzer@enron.com', {'weight': 1.0})]\n"
     ]
    }
   ],
   "source": [
    "#Check out a subset of edges to ensure that the edge attributes came through: \n",
    "print(G.edges(['phillip.allen@enron.com'], data=True))"
   ]
  },
  {
   "cell_type": "markdown",
   "metadata": {},
   "source": [
    "### Initialize a features dataframe, using the nodes as the index"
   ]
  },
  {
   "cell_type": "code",
   "execution_count": 8,
   "metadata": {},
   "outputs": [
    {
     "name": "stdout",
     "output_type": "stream",
     "text": [
      "(14141, 0)\n"
     ]
    },
    {
     "data": {
      "text/html": [
       "<div>\n",
       "<style scoped>\n",
       "    .dataframe tbody tr th:only-of-type {\n",
       "        vertical-align: middle;\n",
       "    }\n",
       "\n",
       "    .dataframe tbody tr th {\n",
       "        vertical-align: top;\n",
       "    }\n",
       "\n",
       "    .dataframe thead th {\n",
       "        text-align: right;\n",
       "    }\n",
       "</style>\n",
       "<table border=\"1\" class=\"dataframe\">\n",
       "  <thead>\n",
       "    <tr style=\"text-align: right;\">\n",
       "      <th></th>\n",
       "    </tr>\n",
       "  </thead>\n",
       "  <tbody>\n",
       "    <tr>\n",
       "      <th>1.10043390.2@multexinvestornetwork.com</th>\n",
       "    </tr>\n",
       "    <tr>\n",
       "      <th>jwillia@enron.com</th>\n",
       "    </tr>\n",
       "    <tr>\n",
       "      <th>1.3594.f00jdu1qa40nkp.1@mailer.realage.com</th>\n",
       "    </tr>\n",
       "    <tr>\n",
       "      <th>brapp@enron.com</th>\n",
       "    </tr>\n",
       "    <tr>\n",
       "      <th>101qi@msn.com</th>\n",
       "    </tr>\n",
       "  </tbody>\n",
       "</table>\n",
       "</div>"
      ],
      "text/plain": [
       "Empty DataFrame\n",
       "Columns: []\n",
       "Index: [1.10043390.2@multexinvestornetwork.com, jwillia@enron.com, 1.3594.f00jdu1qa40nkp.1@mailer.realage.com, brapp@enron.com, 101qi@msn.com]"
      ]
     },
     "execution_count": 8,
     "metadata": {},
     "output_type": "execute_result"
    }
   ],
   "source": [
    "df = pd.DataFrame(index=G.nodes())\n",
    "print(df.shape)\n",
    "df.head()"
   ]
  },
  {
   "cell_type": "code",
   "execution_count": 9,
   "metadata": {},
   "outputs": [
    {
     "data": {
      "text/plain": [
       "14141"
      ]
     },
     "execution_count": 9,
     "metadata": {},
     "output_type": "execute_result"
    }
   ],
   "source": [
    "#how many unique nodes do we have? \n",
    "df.index.nunique() "
   ]
  },
  {
   "cell_type": "markdown",
   "metadata": {},
   "source": [
    "### Community Detection: Louvain\n",
    "\n",
    "We will be working with Louvain and our custom community detection algorithm to see how our people cluster in the dataset. We will use the undirected graph to extract community-based features. \n",
    "\n",
    "#### NOTE: To use Louvain, you will need to pip install python-louvain at your command prompt before running the next block of code "
   ]
  },
  {
   "cell_type": "code",
   "execution_count": 10,
   "metadata": {},
   "outputs": [],
   "source": [
    "import community as community_louvain"
   ]
  },
  {
   "cell_type": "code",
   "execution_count": 11,
   "metadata": {},
   "outputs": [],
   "source": [
    "#Run the algorithm on the undirected graph, without weights\n",
    "partition_orig = community_louvain.best_partition(G_un, random_state=101)\n",
    "\n",
    "#Run the algorithm on the undirected graph, with weights \n",
    "partition_orig_weighted = community_louvain.best_partition(G_un, weight='weight', random_state=101)"
   ]
  },
  {
   "cell_type": "code",
   "execution_count": 12,
   "metadata": {},
   "outputs": [],
   "source": [
    "#Put community information into our features dataframe: \n",
    "#df['louvain_orig_noweight'] = pd.Series(partition_orig)\n",
    "df['louvain'] = pd.Series(partition_orig_weighted)"
   ]
  },
  {
   "cell_type": "code",
   "execution_count": 13,
   "metadata": {},
   "outputs": [
    {
     "data": {
      "text/html": [
       "<div>\n",
       "<style scoped>\n",
       "    .dataframe tbody tr th:only-of-type {\n",
       "        vertical-align: middle;\n",
       "    }\n",
       "\n",
       "    .dataframe tbody tr th {\n",
       "        vertical-align: top;\n",
       "    }\n",
       "\n",
       "    .dataframe thead th {\n",
       "        text-align: right;\n",
       "    }\n",
       "</style>\n",
       "<table border=\"1\" class=\"dataframe\">\n",
       "  <thead>\n",
       "    <tr style=\"text-align: right;\">\n",
       "      <th></th>\n",
       "      <th>louvain</th>\n",
       "    </tr>\n",
       "  </thead>\n",
       "  <tbody>\n",
       "    <tr>\n",
       "      <th>1.10043390.2@multexinvestornetwork.com</th>\n",
       "      <td>0</td>\n",
       "    </tr>\n",
       "    <tr>\n",
       "      <th>jwillia@enron.com</th>\n",
       "      <td>0</td>\n",
       "    </tr>\n",
       "    <tr>\n",
       "      <th>1.3594.f00jdu1qa40nkp.1@mailer.realage.com</th>\n",
       "      <td>1</td>\n",
       "    </tr>\n",
       "    <tr>\n",
       "      <th>brapp@enron.com</th>\n",
       "      <td>1</td>\n",
       "    </tr>\n",
       "    <tr>\n",
       "      <th>101qi@msn.com</th>\n",
       "      <td>2</td>\n",
       "    </tr>\n",
       "  </tbody>\n",
       "</table>\n",
       "</div>"
      ],
      "text/plain": [
       "                                            louvain\n",
       "1.10043390.2@multexinvestornetwork.com            0\n",
       "jwillia@enron.com                                 0\n",
       "1.3594.f00jdu1qa40nkp.1@mailer.realage.com        1\n",
       "brapp@enron.com                                   1\n",
       "101qi@msn.com                                     2"
      ]
     },
     "execution_count": 13,
     "metadata": {},
     "output_type": "execute_result"
    }
   ],
   "source": [
    "df.head()"
   ]
  },
  {
   "cell_type": "markdown",
   "metadata": {},
   "source": [
    "### Community Detection: Custom Louvain\n",
    "\n",
    "For this project, we altered the way modularity is caluculated and resolved in the original Louvain algorithm. You will notice that if you downloaded this code from Github, there is a Custom Louvain folder that was included in that zip file. Simply place that folder in the same folder that this notebook is located and run it. There is no need to pip install everything as long as you put the Custom Louvain folder in the correct place. "
   ]
  },
  {
   "cell_type": "code",
   "execution_count": 14,
   "metadata": {},
   "outputs": [
    {
     "data": {
      "text/plain": [
       "\"\\n#Commenting this out for Google Colab Use. Cannot import custom packages easily into Colab so we will skip this step. \\n#You can run this code in another IDE (Jupyter, Spyder) after putting CustomLouvain folder in this directory subfolder. \\n\\n\\nfrom CustomLouvain import louvain_modified\\n\\n#Run the algorithm on the undirected graph, without weights\\npartition_mod = louvain_modified.best_partition(G_un, random_state=101)\\n\\n#Run the algorithm on the undirected graph, with weights \\npartition_mod_weighted = louvain_modified.best_partition(G_un, weight='weight', random_state=101)\\n\\n#Extract partition stats to our features dataframe: \\ndf['louvain_custom'] = pd.Series(partition_mod)\\n#df['louvain_custom_weight'] = pd.Series(partition_mod_weighted)\\ndf.head()\\n\\n\""
      ]
     },
     "execution_count": 14,
     "metadata": {},
     "output_type": "execute_result"
    }
   ],
   "source": [
    "'''\n",
    "#Commenting this out for Google Colab Use. Cannot import custom packages easily into Colab so we will skip this step. \n",
    "#You can run this code in another IDE (Jupyter, Spyder) after putting CustomLouvain folder in this directory subfolder. \n",
    "\n",
    "\n",
    "from CustomLouvain import louvain_modified\n",
    "\n",
    "#Run the algorithm on the undirected graph, without weights\n",
    "partition_mod = louvain_modified.best_partition(G_un, random_state=101)\n",
    "\n",
    "#Run the algorithm on the undirected graph, with weights \n",
    "partition_mod_weighted = louvain_modified.best_partition(G_un, weight='weight', random_state=101)\n",
    "\n",
    "#Extract partition stats to our features dataframe: \n",
    "df['louvain_custom'] = pd.Series(partition_mod)\n",
    "#df['louvain_custom_weight'] = pd.Series(partition_mod_weighted)\n",
    "df.head()\n",
    "\n",
    "print('Partition count for custom Louvain with weights:  ', len(set([v for u,v in partition_mod_weighted.items()])))\n",
    "\n",
    "'''"
   ]
  },
  {
   "cell_type": "markdown",
   "metadata": {},
   "source": [
    "### Evaluate How the Community Detection Algorithms Performed"
   ]
  },
  {
   "cell_type": "code",
   "execution_count": 15,
   "metadata": {},
   "outputs": [
    {
     "name": "stdout",
     "output_type": "stream",
     "text": [
      "Partition count for Louvain:  200\n"
     ]
    }
   ],
   "source": [
    "#How many communities did each one find? \n",
    "#print('Partition count for Louvain with weights: ', len(set([v for u,v in partition_orig_weighted.items()])))\n",
    "print('Partition count for Louvain: ', len(set([v for u,v in partition_orig.items()])))"
   ]
  },
  {
   "cell_type": "markdown",
   "metadata": {},
   "source": [
    "#### Cluster Breakdown - Louvain"
   ]
  },
  {
   "cell_type": "code",
   "execution_count": 16,
   "metadata": {},
   "outputs": [
    {
     "name": "stdout",
     "output_type": "stream",
     "text": [
      "Cluster Assignments for each Fraudster - Louvain:\n",
      "-----------------------------------------------\n",
      "Ken:  19\n",
      "Jeff:  19\n",
      "Andy:  9\n",
      "Lou:  19\n",
      "Cliff:  19\n",
      "\n",
      "\n",
      "Number of people in each Louvain cluster:\n",
      "-----------------------------------------\n",
      "Ken, Jeff, Lou & Cliff:   784\n",
      "Andy:   1157\n",
      "Weeded Out Results:   12200\n"
     ]
    }
   ],
   "source": [
    "ken_louv = int(df.loc['kenneth.lay@enron.com']['louvain'])\n",
    "jeff_louv = int(df.loc['jeff.skilling@enron.com']['louvain'])\n",
    "andy_louv = int(df.loc['andrew.fastow@enron.com']['louvain'])\n",
    "lou_louv = int(df.loc['lou.pai@enron.com']['louvain'])\n",
    "cliff_louv = int(df.loc['cliff.baxter@enron.com']['louvain'])\n",
    "\n",
    "print('Cluster Assignments for each Fraudster - Louvain:')\n",
    "print('-----------------------------------------------')\n",
    "print('Ken:  ' + str(ken_louv))\n",
    "print('Jeff:  ' + str(jeff_louv))\n",
    "print('Andy:  ' + str(andy_louv))\n",
    "print('Lou:  ' + str(lou_louv))\n",
    "print('Cliff:  ' + str(cliff_louv))\n",
    "\n",
    "print('\\n')\n",
    "#How many people are in each of these subsets? \n",
    "print(\"Number of people in each Louvain cluster:\")\n",
    "print('-----------------------------------------')\n",
    "print('Ken, Jeff, Lou & Cliff:  ', len(df[df['louvain']==ken_louv]))\n",
    "print('Andy:  ', len(df[df['louvain']==andy_louv]))\n",
    "print('Weeded Out Results:  ', len(df) - len(df[df['louvain']==ken_louv]) - len(df[df['louvain']==andy_louv]))"
   ]
  },
  {
   "cell_type": "markdown",
   "metadata": {},
   "source": [
    "#### Cluster Breakdown - Custom Louvain"
   ]
  },
  {
   "cell_type": "code",
   "execution_count": 17,
   "metadata": {},
   "outputs": [
    {
     "data": {
      "text/plain": [
       "'\\n\\n#Commenting this out for Google Colab Use. Cannot import custom packages easily into Colab so we will skip this step. \\n#You can run this code in another IDE (Jupyter, Spyder) after putting CustomLouvain folder in this directory subfolder.\\n\\nken_clouv = int(df.loc[\\'kenneth.lay@enron.com\\'][\\'louvain_custom\\'])\\njeff_clouv = int(df.loc[\\'jeff.skilling@enron.com\\'][\\'louvain_custom\\'])\\nandy_clouv = int(df.loc[\\'andrew.fastow@enron.com\\'][\\'louvain_custom\\'])\\nlou_clouv = int(df.loc[\\'lou.pai@enron.com\\'][\\'louvain_custom\\'])\\ncliff_clouv = int(df.loc[\\'cliff.baxter@enron.com\\'][\\'louvain_custom\\'])\\n\\nprint(\\'Cluster Assignments for each Fraudster - Custom Louvain:\\')\\nprint(\\'-----------------------------------------------------------\\')\\nprint(\\'Ken:  \\' + str(ken_clouv))\\nprint(\\'Jeff:  \\' + str(jeff_clouv))\\nprint(\\'Andy:  \\' + str(andy_clouv))\\nprint(\\'Lou:  \\' + str(lou_clouv))\\nprint(\\'Cliff:  \\' + str(cliff_clouv))\\n\\nprint(\\'\\n\\')\\n#How many people are in each of these subsets? \\nprint(\"Number of people in each custom Louvain cluster:\")\\nprint(\\'---------------------------------------------------\\')\\nprint(\"Ken: \", len(df[df[\\'louvain_custom\\']==ken_clouv]))\\nprint(\"Jeff: \", len(df[df[\\'louvain_custom\\']==jeff_clouv]))\\nprint(\"Andy: \", len(df[df[\\'louvain_custom\\']==andy_clouv]))\\nprint(\"Lou: \", len(df[df[\\'louvain_custom\\']==lou_clouv]))\\nprint(\"Cliff: \", len(df[df[\\'louvain_custom\\']==cliff_clouv]))\\n\\nprint(\"Weeded out results: \", \\n      len(df) - \\n      len(df[df[\\'louvain_custom\\']==ken_clouv]) - \\n      len(df[df[\\'louvain_custom\\']==jeff_clouv]) - \\n      len(df[df[\\'louvain_custom\\']==andy_clouv]) - \\n      len(df[df[\\'louvain_custom\\']==lou_clouv]) - \\n      len(df[df[\\'louvain_custom\\']==cliff_clouv]))\\n      \\n'"
      ]
     },
     "execution_count": 17,
     "metadata": {},
     "output_type": "execute_result"
    }
   ],
   "source": [
    "'''\n",
    "\n",
    "#Commenting this out for Google Colab Use. Cannot import custom packages easily into Colab so we will skip this step. \n",
    "#You can run this code in another IDE (Jupyter, Spyder) after putting CustomLouvain folder in this directory subfolder.\n",
    "\n",
    "ken_clouv = int(df.loc['kenneth.lay@enron.com']['louvain_custom'])\n",
    "jeff_clouv = int(df.loc['jeff.skilling@enron.com']['louvain_custom'])\n",
    "andy_clouv = int(df.loc['andrew.fastow@enron.com']['louvain_custom'])\n",
    "lou_clouv = int(df.loc['lou.pai@enron.com']['louvain_custom'])\n",
    "cliff_clouv = int(df.loc['cliff.baxter@enron.com']['louvain_custom'])\n",
    "\n",
    "print('Cluster Assignments for each Fraudster - Custom Louvain:')\n",
    "print('-----------------------------------------------------------')\n",
    "print('Ken:  ' + str(ken_clouv))\n",
    "print('Jeff:  ' + str(jeff_clouv))\n",
    "print('Andy:  ' + str(andy_clouv))\n",
    "print('Lou:  ' + str(lou_clouv))\n",
    "print('Cliff:  ' + str(cliff_clouv))\n",
    "\n",
    "print('\\n')\n",
    "#How many people are in each of these subsets? \n",
    "print(\"Number of people in each custom Louvain cluster:\")\n",
    "print('---------------------------------------------------')\n",
    "print(\"Ken: \", len(df[df['louvain_custom']==ken_clouv]))\n",
    "print(\"Jeff: \", len(df[df['louvain_custom']==jeff_clouv]))\n",
    "print(\"Andy: \", len(df[df['louvain_custom']==andy_clouv]))\n",
    "print(\"Lou: \", len(df[df['louvain_custom']==lou_clouv]))\n",
    "print(\"Cliff: \", len(df[df['louvain_custom']==cliff_clouv]))\n",
    "\n",
    "print(\"Weeded out results: \", \n",
    "      len(df) - \n",
    "      len(df[df['louvain_custom']==ken_clouv]) - \n",
    "      len(df[df['louvain_custom']==jeff_clouv]) - \n",
    "      len(df[df['louvain_custom']==andy_clouv]) - \n",
    "      len(df[df['louvain_custom']==lou_clouv]) - \n",
    "      len(df[df['louvain_custom']==cliff_clouv]))\n",
    "      \n",
    "'''"
   ]
  },
  {
   "cell_type": "markdown",
   "metadata": {},
   "source": [
    "### Gather More Node-Based Graph features"
   ]
  },
  {
   "cell_type": "code",
   "execution_count": 18,
   "metadata": {},
   "outputs": [
    {
     "data": {
      "text/html": [
       "<div>\n",
       "<style scoped>\n",
       "    .dataframe tbody tr th:only-of-type {\n",
       "        vertical-align: middle;\n",
       "    }\n",
       "\n",
       "    .dataframe tbody tr th {\n",
       "        vertical-align: top;\n",
       "    }\n",
       "\n",
       "    .dataframe thead th {\n",
       "        text-align: right;\n",
       "    }\n",
       "</style>\n",
       "<table border=\"1\" class=\"dataframe\">\n",
       "  <thead>\n",
       "    <tr style=\"text-align: right;\">\n",
       "      <th></th>\n",
       "      <th>louvain</th>\n",
       "      <th>in-degree_weighted</th>\n",
       "      <th>out-degree_weighted</th>\n",
       "    </tr>\n",
       "  </thead>\n",
       "  <tbody>\n",
       "    <tr>\n",
       "      <th>1.10043390.2@multexinvestornetwork.com</th>\n",
       "      <td>0</td>\n",
       "      <td>0.0</td>\n",
       "      <td>1.0</td>\n",
       "    </tr>\n",
       "    <tr>\n",
       "      <th>jwillia@enron.com</th>\n",
       "      <td>0</td>\n",
       "      <td>3.0</td>\n",
       "      <td>0.0</td>\n",
       "    </tr>\n",
       "    <tr>\n",
       "      <th>1.3594.f00jdu1qa40nkp.1@mailer.realage.com</th>\n",
       "      <td>1</td>\n",
       "      <td>0.0</td>\n",
       "      <td>1.0</td>\n",
       "    </tr>\n",
       "    <tr>\n",
       "      <th>brapp@enron.com</th>\n",
       "      <td>1</td>\n",
       "      <td>1.0</td>\n",
       "      <td>0.0</td>\n",
       "    </tr>\n",
       "    <tr>\n",
       "      <th>101qi@msn.com</th>\n",
       "      <td>2</td>\n",
       "      <td>0.0</td>\n",
       "      <td>1.0</td>\n",
       "    </tr>\n",
       "  </tbody>\n",
       "</table>\n",
       "</div>"
      ],
      "text/plain": [
       "                                            louvain  in-degree_weighted  \\\n",
       "1.10043390.2@multexinvestornetwork.com            0                 0.0   \n",
       "jwillia@enron.com                                 0                 3.0   \n",
       "1.3594.f00jdu1qa40nkp.1@mailer.realage.com        1                 0.0   \n",
       "brapp@enron.com                                   1                 1.0   \n",
       "101qi@msn.com                                     2                 0.0   \n",
       "\n",
       "                                            out-degree_weighted  \n",
       "1.10043390.2@multexinvestornetwork.com                      1.0  \n",
       "jwillia@enron.com                                           0.0  \n",
       "1.3594.f00jdu1qa40nkp.1@mailer.realage.com                  1.0  \n",
       "brapp@enron.com                                             0.0  \n",
       "101qi@msn.com                                               1.0  "
      ]
     },
     "execution_count": 18,
     "metadata": {},
     "output_type": "execute_result"
    }
   ],
   "source": [
    "#Weighted Degree features\n",
    "df['in-degree_weighted'] = pd.Series(dict(G.in_degree(weight='weight'))).round(3).astype(float)\n",
    "df['out-degree_weighted'] = pd.Series(dict(G.out_degree(weight='weight'))).round(3).astype(float)\n",
    "\n",
    "#Fill NaN values with 0: \n",
    "df.fillna(0, inplace=True)\n",
    "df.head()"
   ]
  },
  {
   "cell_type": "code",
   "execution_count": 19,
   "metadata": {},
   "outputs": [
    {
     "data": {
      "text/plain": [
       "[]"
      ]
     },
     "execution_count": 19,
     "metadata": {},
     "output_type": "execute_result"
    }
   ],
   "source": [
    "#Check for singletons - we should not have this in our graph: \n",
    "[(u,v) for u,v in dict(G.degree()).items() if v < 1]"
   ]
  },
  {
   "cell_type": "code",
   "execution_count": 20,
   "metadata": {},
   "outputs": [],
   "source": [
    "#Centrality Measures: \n",
    "df['degree-centrality'] = pd.Series(nx.degree_centrality(G))\n",
    "df['indegree-centrality'] = pd.Series(nx.in_degree_centrality(G))\n",
    "df['outdegree-centrality'] = pd.Series(nx.out_degree_centrality(G))\n",
    "#Closeness centrality: Since the graph is disconnected, use wf_improved to normalize by fraction of nodes reached\n",
    "df['closeness-centrality'] = pd.Series(nx.closeness_centrality(G, wf_improved=True))\n",
    "df['pagerank'] = pd.Series(nx.pagerank(G, alpha=.85))\n",
    "hub, auth = nx.hits(G)\n",
    "df['hubs'] = pd.Series(dict(hub.items()))\n",
    "df['authorities'] = pd.Series(dict(auth.items()))"
   ]
  },
  {
   "cell_type": "code",
   "execution_count": 21,
   "metadata": {},
   "outputs": [
    {
     "data": {
      "text/plain": [
       "\"\\n#Betweenness centrality -- NOTE: This takes a very long time to run! Feel free to run it, but you will be waiting. :) \\ndf['betweenness-centrality'] = pd.Series(nx.betweenness_centrality(G, normalized=True, endpoints=False))\\ndf.head()\\n\""
      ]
     },
     "execution_count": 21,
     "metadata": {},
     "output_type": "execute_result"
    }
   ],
   "source": [
    "'''\n",
    "#Betweenness centrality -- NOTE: This takes a very long time to run! Feel free to run it, but you will be waiting. :) \n",
    "df['betweenness-centrality'] = pd.Series(nx.betweenness_centrality(G, normalized=True, endpoints=False))\n",
    "df.head()\n",
    "'''"
   ]
  },
  {
   "cell_type": "code",
   "execution_count": 22,
   "metadata": {},
   "outputs": [
    {
     "data": {
      "text/plain": [
       "(14141, 10)"
      ]
     },
     "execution_count": 22,
     "metadata": {},
     "output_type": "execute_result"
    }
   ],
   "source": [
    "df.shape"
   ]
  },
  {
   "cell_type": "code",
   "execution_count": 23,
   "metadata": {},
   "outputs": [
    {
     "data": {
      "text/html": [
       "<div>\n",
       "<style scoped>\n",
       "    .dataframe tbody tr th:only-of-type {\n",
       "        vertical-align: middle;\n",
       "    }\n",
       "\n",
       "    .dataframe tbody tr th {\n",
       "        vertical-align: top;\n",
       "    }\n",
       "\n",
       "    .dataframe thead th {\n",
       "        text-align: right;\n",
       "    }\n",
       "</style>\n",
       "<table border=\"1\" class=\"dataframe\">\n",
       "  <thead>\n",
       "    <tr style=\"text-align: right;\">\n",
       "      <th></th>\n",
       "      <th>louvain</th>\n",
       "      <th>in-degree_weighted</th>\n",
       "      <th>out-degree_weighted</th>\n",
       "      <th>degree-centrality</th>\n",
       "      <th>indegree-centrality</th>\n",
       "      <th>outdegree-centrality</th>\n",
       "      <th>closeness-centrality</th>\n",
       "      <th>pagerank</th>\n",
       "      <th>hubs</th>\n",
       "      <th>authorities</th>\n",
       "    </tr>\n",
       "  </thead>\n",
       "  <tbody>\n",
       "    <tr>\n",
       "      <th>1.10043390.2@multexinvestornetwork.com</th>\n",
       "      <td>0</td>\n",
       "      <td>0.0</td>\n",
       "      <td>1.0</td>\n",
       "      <td>0.000071</td>\n",
       "      <td>0.000000</td>\n",
       "      <td>0.000071</td>\n",
       "      <td>0.000000</td>\n",
       "      <td>0.000056</td>\n",
       "      <td>1.642557e-90</td>\n",
       "      <td>0.000000e+00</td>\n",
       "    </tr>\n",
       "    <tr>\n",
       "      <th>jwillia@enron.com</th>\n",
       "      <td>0</td>\n",
       "      <td>3.0</td>\n",
       "      <td>0.0</td>\n",
       "      <td>0.000212</td>\n",
       "      <td>0.000212</td>\n",
       "      <td>0.000000</td>\n",
       "      <td>0.000212</td>\n",
       "      <td>0.000198</td>\n",
       "      <td>0.000000e+00</td>\n",
       "      <td>6.505822e-89</td>\n",
       "    </tr>\n",
       "  </tbody>\n",
       "</table>\n",
       "</div>"
      ],
      "text/plain": [
       "                                        louvain  in-degree_weighted  \\\n",
       "1.10043390.2@multexinvestornetwork.com        0                 0.0   \n",
       "jwillia@enron.com                             0                 3.0   \n",
       "\n",
       "                                        out-degree_weighted  \\\n",
       "1.10043390.2@multexinvestornetwork.com                  1.0   \n",
       "jwillia@enron.com                                       0.0   \n",
       "\n",
       "                                        degree-centrality  \\\n",
       "1.10043390.2@multexinvestornetwork.com           0.000071   \n",
       "jwillia@enron.com                                0.000212   \n",
       "\n",
       "                                        indegree-centrality  \\\n",
       "1.10043390.2@multexinvestornetwork.com             0.000000   \n",
       "jwillia@enron.com                                  0.000212   \n",
       "\n",
       "                                        outdegree-centrality  \\\n",
       "1.10043390.2@multexinvestornetwork.com              0.000071   \n",
       "jwillia@enron.com                                   0.000000   \n",
       "\n",
       "                                        closeness-centrality  pagerank  \\\n",
       "1.10043390.2@multexinvestornetwork.com              0.000000  0.000056   \n",
       "jwillia@enron.com                                   0.000212  0.000198   \n",
       "\n",
       "                                                hubs   authorities  \n",
       "1.10043390.2@multexinvestornetwork.com  1.642557e-90  0.000000e+00  \n",
       "jwillia@enron.com                       0.000000e+00  6.505822e-89  "
      ]
     },
     "execution_count": 23,
     "metadata": {},
     "output_type": "execute_result"
    }
   ],
   "source": [
    "df.head(2)"
   ]
  },
  {
   "cell_type": "markdown",
   "metadata": {},
   "source": [
    "### Apply One-Hot Encoding of Louvain Results: "
   ]
  },
  {
   "cell_type": "code",
   "execution_count": 24,
   "metadata": {},
   "outputs": [],
   "source": [
    "#We will one-hot enocode the results from the Louvain algorithm -- feel free to run again with custom Louvain! :o)\n",
    "one_hot = pd.get_dummies(df['louvain'], drop_first=True)\n",
    "\n",
    "#Concatenate dummy variables and drop columns we don't need: \n",
    "dropcols = ['louvain']\n",
    "df_hot = pd.concat([df.drop(dropcols, axis=1), one_hot], axis=1)"
   ]
  },
  {
   "cell_type": "code",
   "execution_count": 25,
   "metadata": {},
   "outputs": [
    {
     "data": {
      "text/html": [
       "<div>\n",
       "<style scoped>\n",
       "    .dataframe tbody tr th:only-of-type {\n",
       "        vertical-align: middle;\n",
       "    }\n",
       "\n",
       "    .dataframe tbody tr th {\n",
       "        vertical-align: top;\n",
       "    }\n",
       "\n",
       "    .dataframe thead th {\n",
       "        text-align: right;\n",
       "    }\n",
       "</style>\n",
       "<table border=\"1\" class=\"dataframe\">\n",
       "  <thead>\n",
       "    <tr style=\"text-align: right;\">\n",
       "      <th></th>\n",
       "      <th>in-degree_weighted</th>\n",
       "      <th>out-degree_weighted</th>\n",
       "      <th>degree-centrality</th>\n",
       "      <th>indegree-centrality</th>\n",
       "      <th>outdegree-centrality</th>\n",
       "      <th>closeness-centrality</th>\n",
       "      <th>pagerank</th>\n",
       "      <th>hubs</th>\n",
       "      <th>authorities</th>\n",
       "      <th>1</th>\n",
       "      <th>...</th>\n",
       "      <th>190</th>\n",
       "      <th>191</th>\n",
       "      <th>192</th>\n",
       "      <th>193</th>\n",
       "      <th>194</th>\n",
       "      <th>195</th>\n",
       "      <th>196</th>\n",
       "      <th>197</th>\n",
       "      <th>198</th>\n",
       "      <th>199</th>\n",
       "    </tr>\n",
       "  </thead>\n",
       "  <tbody>\n",
       "    <tr>\n",
       "      <th>1.10043390.2@multexinvestornetwork.com</th>\n",
       "      <td>0.0</td>\n",
       "      <td>1.0</td>\n",
       "      <td>0.000071</td>\n",
       "      <td>0.000000</td>\n",
       "      <td>0.000071</td>\n",
       "      <td>0.000000</td>\n",
       "      <td>0.000056</td>\n",
       "      <td>1.642557e-90</td>\n",
       "      <td>0.000000e+00</td>\n",
       "      <td>0</td>\n",
       "      <td>...</td>\n",
       "      <td>0</td>\n",
       "      <td>0</td>\n",
       "      <td>0</td>\n",
       "      <td>0</td>\n",
       "      <td>0</td>\n",
       "      <td>0</td>\n",
       "      <td>0</td>\n",
       "      <td>0</td>\n",
       "      <td>0</td>\n",
       "      <td>0</td>\n",
       "    </tr>\n",
       "    <tr>\n",
       "      <th>jwillia@enron.com</th>\n",
       "      <td>3.0</td>\n",
       "      <td>0.0</td>\n",
       "      <td>0.000212</td>\n",
       "      <td>0.000212</td>\n",
       "      <td>0.000000</td>\n",
       "      <td>0.000212</td>\n",
       "      <td>0.000198</td>\n",
       "      <td>0.000000e+00</td>\n",
       "      <td>6.505822e-89</td>\n",
       "      <td>0</td>\n",
       "      <td>...</td>\n",
       "      <td>0</td>\n",
       "      <td>0</td>\n",
       "      <td>0</td>\n",
       "      <td>0</td>\n",
       "      <td>0</td>\n",
       "      <td>0</td>\n",
       "      <td>0</td>\n",
       "      <td>0</td>\n",
       "      <td>0</td>\n",
       "      <td>0</td>\n",
       "    </tr>\n",
       "    <tr>\n",
       "      <th>1.3594.f00jdu1qa40nkp.1@mailer.realage.com</th>\n",
       "      <td>0.0</td>\n",
       "      <td>1.0</td>\n",
       "      <td>0.000071</td>\n",
       "      <td>0.000000</td>\n",
       "      <td>0.000071</td>\n",
       "      <td>0.000000</td>\n",
       "      <td>0.000056</td>\n",
       "      <td>6.462013e-103</td>\n",
       "      <td>0.000000e+00</td>\n",
       "      <td>1</td>\n",
       "      <td>...</td>\n",
       "      <td>0</td>\n",
       "      <td>0</td>\n",
       "      <td>0</td>\n",
       "      <td>0</td>\n",
       "      <td>0</td>\n",
       "      <td>0</td>\n",
       "      <td>0</td>\n",
       "      <td>0</td>\n",
       "      <td>0</td>\n",
       "      <td>0</td>\n",
       "    </tr>\n",
       "  </tbody>\n",
       "</table>\n",
       "<p>3 rows × 208 columns</p>\n",
       "</div>"
      ],
      "text/plain": [
       "                                            in-degree_weighted  \\\n",
       "1.10043390.2@multexinvestornetwork.com                     0.0   \n",
       "jwillia@enron.com                                          3.0   \n",
       "1.3594.f00jdu1qa40nkp.1@mailer.realage.com                 0.0   \n",
       "\n",
       "                                            out-degree_weighted  \\\n",
       "1.10043390.2@multexinvestornetwork.com                      1.0   \n",
       "jwillia@enron.com                                           0.0   \n",
       "1.3594.f00jdu1qa40nkp.1@mailer.realage.com                  1.0   \n",
       "\n",
       "                                            degree-centrality  \\\n",
       "1.10043390.2@multexinvestornetwork.com               0.000071   \n",
       "jwillia@enron.com                                    0.000212   \n",
       "1.3594.f00jdu1qa40nkp.1@mailer.realage.com           0.000071   \n",
       "\n",
       "                                            indegree-centrality  \\\n",
       "1.10043390.2@multexinvestornetwork.com                 0.000000   \n",
       "jwillia@enron.com                                      0.000212   \n",
       "1.3594.f00jdu1qa40nkp.1@mailer.realage.com             0.000000   \n",
       "\n",
       "                                            outdegree-centrality  \\\n",
       "1.10043390.2@multexinvestornetwork.com                  0.000071   \n",
       "jwillia@enron.com                                       0.000000   \n",
       "1.3594.f00jdu1qa40nkp.1@mailer.realage.com              0.000071   \n",
       "\n",
       "                                            closeness-centrality  pagerank  \\\n",
       "1.10043390.2@multexinvestornetwork.com                  0.000000  0.000056   \n",
       "jwillia@enron.com                                       0.000212  0.000198   \n",
       "1.3594.f00jdu1qa40nkp.1@mailer.realage.com              0.000000  0.000056   \n",
       "\n",
       "                                                     hubs   authorities  1  \\\n",
       "1.10043390.2@multexinvestornetwork.com       1.642557e-90  0.000000e+00  0   \n",
       "jwillia@enron.com                            0.000000e+00  6.505822e-89  0   \n",
       "1.3594.f00jdu1qa40nkp.1@mailer.realage.com  6.462013e-103  0.000000e+00  1   \n",
       "\n",
       "                                            ...  190  191  192  193  194  195  \\\n",
       "1.10043390.2@multexinvestornetwork.com      ...    0    0    0    0    0    0   \n",
       "jwillia@enron.com                           ...    0    0    0    0    0    0   \n",
       "1.3594.f00jdu1qa40nkp.1@mailer.realage.com  ...    0    0    0    0    0    0   \n",
       "\n",
       "                                            196  197  198  199  \n",
       "1.10043390.2@multexinvestornetwork.com        0    0    0    0  \n",
       "jwillia@enron.com                             0    0    0    0  \n",
       "1.3594.f00jdu1qa40nkp.1@mailer.realage.com    0    0    0    0  \n",
       "\n",
       "[3 rows x 208 columns]"
      ]
     },
     "execution_count": 25,
     "metadata": {},
     "output_type": "execute_result"
    }
   ],
   "source": [
    "df_hot.head(3)"
   ]
  },
  {
   "cell_type": "code",
   "execution_count": 26,
   "metadata": {},
   "outputs": [
    {
     "data": {
      "text/plain": [
       "(14141, 208)"
      ]
     },
     "execution_count": 26,
     "metadata": {},
     "output_type": "execute_result"
    }
   ],
   "source": [
    "df_hot.shape"
   ]
  },
  {
   "cell_type": "code",
   "execution_count": 27,
   "metadata": {},
   "outputs": [],
   "source": [
    "#Send to CSV for Ensemble Learning pipeline: \n",
    "df_hot.to_csv('3_graph_features.csv')"
   ]
  },
  {
   "cell_type": "markdown",
   "metadata": {},
   "source": [
    "### Apply Feature Scaling \n",
    "Put everything except the values that have been one-hot encoded into the same units"
   ]
  },
  {
   "cell_type": "code",
   "execution_count": 28,
   "metadata": {},
   "outputs": [],
   "source": [
    "from sklearn.preprocessing import StandardScaler\n",
    "\n",
    "#Make a copy of our one-hot encoded df: \n",
    "df_scaled = df_hot.copy()\n",
    "\n",
    "sc = StandardScaler()"
   ]
  },
  {
   "cell_type": "code",
   "execution_count": 29,
   "metadata": {},
   "outputs": [
    {
     "data": {
      "text/plain": [
       "Index(['in-degree_weighted', 'out-degree_weighted', 'degree-centrality',\n",
       "       'indegree-centrality', 'outdegree-centrality', 'closeness-centrality',\n",
       "       'pagerank', 'hubs', 'authorities'],\n",
       "      dtype='object')"
      ]
     },
     "execution_count": 29,
     "metadata": {},
     "output_type": "execute_result"
    }
   ],
   "source": [
    "#The columns we will be scaling: \n",
    "df_scaled.columns[0:9]"
   ]
  },
  {
   "cell_type": "code",
   "execution_count": 30,
   "metadata": {},
   "outputs": [
    {
     "data": {
      "text/html": [
       "<div>\n",
       "<style scoped>\n",
       "    .dataframe tbody tr th:only-of-type {\n",
       "        vertical-align: middle;\n",
       "    }\n",
       "\n",
       "    .dataframe tbody tr th {\n",
       "        vertical-align: top;\n",
       "    }\n",
       "\n",
       "    .dataframe thead th {\n",
       "        text-align: right;\n",
       "    }\n",
       "</style>\n",
       "<table border=\"1\" class=\"dataframe\">\n",
       "  <thead>\n",
       "    <tr style=\"text-align: right;\">\n",
       "      <th></th>\n",
       "      <th>in-degree_weighted</th>\n",
       "      <th>out-degree_weighted</th>\n",
       "      <th>degree-centrality</th>\n",
       "      <th>indegree-centrality</th>\n",
       "      <th>outdegree-centrality</th>\n",
       "      <th>closeness-centrality</th>\n",
       "      <th>pagerank</th>\n",
       "      <th>hubs</th>\n",
       "      <th>authorities</th>\n",
       "      <th>1</th>\n",
       "      <th>...</th>\n",
       "      <th>190</th>\n",
       "      <th>191</th>\n",
       "      <th>192</th>\n",
       "      <th>193</th>\n",
       "      <th>194</th>\n",
       "      <th>195</th>\n",
       "      <th>196</th>\n",
       "      <th>197</th>\n",
       "      <th>198</th>\n",
       "      <th>199</th>\n",
       "    </tr>\n",
       "  </thead>\n",
       "  <tbody>\n",
       "    <tr>\n",
       "      <th>1.10043390.2@multexinvestornetwork.com</th>\n",
       "      <td>-0.195174</td>\n",
       "      <td>0.095901</td>\n",
       "      <td>-0.214250</td>\n",
       "      <td>-0.499428</td>\n",
       "      <td>-0.091658</td>\n",
       "      <td>-1.270464</td>\n",
       "      <td>-0.165920</td>\n",
       "      <td>-0.009256</td>\n",
       "      <td>-0.021494</td>\n",
       "      <td>0</td>\n",
       "      <td>...</td>\n",
       "      <td>0</td>\n",
       "      <td>0</td>\n",
       "      <td>0</td>\n",
       "      <td>0</td>\n",
       "      <td>0</td>\n",
       "      <td>0</td>\n",
       "      <td>0</td>\n",
       "      <td>0</td>\n",
       "      <td>0</td>\n",
       "      <td>0</td>\n",
       "    </tr>\n",
       "    <tr>\n",
       "      <th>jwillia@enron.com</th>\n",
       "      <td>0.906938</td>\n",
       "      <td>-0.108709</td>\n",
       "      <td>-0.108933</td>\n",
       "      <td>0.091767</td>\n",
       "      <td>-0.151396</td>\n",
       "      <td>-1.253648</td>\n",
       "      <td>1.401175</td>\n",
       "      <td>-0.009256</td>\n",
       "      <td>-0.021494</td>\n",
       "      <td>0</td>\n",
       "      <td>...</td>\n",
       "      <td>0</td>\n",
       "      <td>0</td>\n",
       "      <td>0</td>\n",
       "      <td>0</td>\n",
       "      <td>0</td>\n",
       "      <td>0</td>\n",
       "      <td>0</td>\n",
       "      <td>0</td>\n",
       "      <td>0</td>\n",
       "      <td>0</td>\n",
       "    </tr>\n",
       "  </tbody>\n",
       "</table>\n",
       "<p>2 rows × 208 columns</p>\n",
       "</div>"
      ],
      "text/plain": [
       "                                        in-degree_weighted  \\\n",
       "1.10043390.2@multexinvestornetwork.com           -0.195174   \n",
       "jwillia@enron.com                                 0.906938   \n",
       "\n",
       "                                        out-degree_weighted  \\\n",
       "1.10043390.2@multexinvestornetwork.com             0.095901   \n",
       "jwillia@enron.com                                 -0.108709   \n",
       "\n",
       "                                        degree-centrality  \\\n",
       "1.10043390.2@multexinvestornetwork.com          -0.214250   \n",
       "jwillia@enron.com                               -0.108933   \n",
       "\n",
       "                                        indegree-centrality  \\\n",
       "1.10043390.2@multexinvestornetwork.com            -0.499428   \n",
       "jwillia@enron.com                                  0.091767   \n",
       "\n",
       "                                        outdegree-centrality  \\\n",
       "1.10043390.2@multexinvestornetwork.com             -0.091658   \n",
       "jwillia@enron.com                                  -0.151396   \n",
       "\n",
       "                                        closeness-centrality  pagerank  \\\n",
       "1.10043390.2@multexinvestornetwork.com             -1.270464 -0.165920   \n",
       "jwillia@enron.com                                  -1.253648  1.401175   \n",
       "\n",
       "                                            hubs  authorities  1  ...  190  \\\n",
       "1.10043390.2@multexinvestornetwork.com -0.009256    -0.021494  0  ...    0   \n",
       "jwillia@enron.com                      -0.009256    -0.021494  0  ...    0   \n",
       "\n",
       "                                        191  192  193  194  195  196  197  \\\n",
       "1.10043390.2@multexinvestornetwork.com    0    0    0    0    0    0    0   \n",
       "jwillia@enron.com                         0    0    0    0    0    0    0   \n",
       "\n",
       "                                        198  199  \n",
       "1.10043390.2@multexinvestornetwork.com    0    0  \n",
       "jwillia@enron.com                         0    0  \n",
       "\n",
       "[2 rows x 208 columns]"
      ]
     },
     "execution_count": 30,
     "metadata": {},
     "output_type": "execute_result"
    }
   ],
   "source": [
    "#Apply standardization to the columns \n",
    "#NOTE: We do not apply to columns that have been one-hot-encoded, so we take the columns at index 0:10:\n",
    "df_scaled[df_scaled.columns[0:9]] = sc.fit_transform(df_scaled[df_scaled.columns[0:9]])\n",
    "\n",
    "df_scaled.head(2)"
   ]
  },
  {
   "cell_type": "code",
   "execution_count": 31,
   "metadata": {},
   "outputs": [],
   "source": [
    "#Send to CSV for Ensemble Learning Pipeline: \n",
    "df_scaled.to_csv('3_graph_features_scaled.csv')"
   ]
  },
  {
   "cell_type": "markdown",
   "metadata": {},
   "source": [
    "# K-means clustering\n",
    "\n",
    "We have the louvain algorithm clusters, which may be all we need, however let's try using KMeans to cluster the graph with all of the degree measures. \n",
    "\n",
    "First, we need to find the optimal number of clusters\n",
    "\n",
    "Next we Cluster results based on optimal number of clusters\n",
    "\n",
    "Finally, we reduce the dimensionality of the results with PCA and plot results"
   ]
  },
  {
   "cell_type": "code",
   "execution_count": 32,
   "metadata": {},
   "outputs": [],
   "source": [
    "from sklearn.cluster import KMeans"
   ]
  },
  {
   "cell_type": "code",
   "execution_count": 33,
   "metadata": {},
   "outputs": [
    {
     "data": {
      "image/png": "[encoded data removed]",
      "text/plain": [
       "<Figure size 432x288 with 1 Axes>"
      ]
     },
     "metadata": {
      "needs_background": "light"
     },
     "output_type": "display_data"
    }
   ],
   "source": [
    "#Find optimal clusters of scaled data (This takes some time): \n",
    "wcss = []\n",
    "for i in range(1, 20):\n",
    "    kmeans = KMeans(n_clusters = i, init = 'k-means++', random_state = 42)\n",
    "    kmeans.fit(df_scaled)\n",
    "    wcss.append(kmeans.inertia_)\n",
    "plt.plot(range(1, 20), wcss)\n",
    "plt.title('KMeans Optimal Clusters')\n",
    "plt.xlabel('Number of clusters')\n",
    "plt.ylabel('WCSS')\n",
    "plt.show()"
   ]
  },
  {
   "cell_type": "code",
   "execution_count": 34,
   "metadata": {},
   "outputs": [
    {
     "name": "stdout",
     "output_type": "stream",
     "text": [
      "[3 3 3 ... 3 3 3]\n"
     ]
    }
   ],
   "source": [
    "#Select the 10-cluster model and view results: \n",
    "kmeans = KMeans(n_clusters = 10, init = 'k-means++', random_state = 42)\n",
    "#Create the dependent variable, which are the clusters KMeans assigns to each person\n",
    "y_kmeans = kmeans.fit_predict(df_scaled)\n",
    "\n",
    "#View the cluster assignments\n",
    "print(y_kmeans)"
   ]
  },
  {
   "cell_type": "markdown",
   "metadata": {},
   "source": [
    "### Visualize\n",
    "\n",
    "First we reduce the dimensions of the data using PCA with 2 components"
   ]
  },
  {
   "cell_type": "code",
   "execution_count": 35,
   "metadata": {},
   "outputs": [
    {
     "name": "stdout",
     "output_type": "stream",
     "text": [
      "(14141, 208)\n",
      "\n",
      "\n",
      "(14141, 2)\n"
     ]
    },
    {
     "data": {
      "text/html": [
       "<div>\n",
       "<style scoped>\n",
       "    .dataframe tbody tr th:only-of-type {\n",
       "        vertical-align: middle;\n",
       "    }\n",
       "\n",
       "    .dataframe tbody tr th {\n",
       "        vertical-align: top;\n",
       "    }\n",
       "\n",
       "    .dataframe thead th {\n",
       "        text-align: right;\n",
       "    }\n",
       "</style>\n",
       "<table border=\"1\" class=\"dataframe\">\n",
       "  <thead>\n",
       "    <tr style=\"text-align: right;\">\n",
       "      <th></th>\n",
       "      <th>pca1</th>\n",
       "      <th>pca2</th>\n",
       "      <th>cluster</th>\n",
       "    </tr>\n",
       "  </thead>\n",
       "  <tbody>\n",
       "    <tr>\n",
       "      <th>1.10043390.2@multexinvestornetwork.com</th>\n",
       "      <td>-0.625174</td>\n",
       "      <td>-0.074500</td>\n",
       "      <td>3</td>\n",
       "    </tr>\n",
       "    <tr>\n",
       "      <th>jwillia@enron.com</th>\n",
       "      <td>0.737626</td>\n",
       "      <td>0.681640</td>\n",
       "      <td>3</td>\n",
       "    </tr>\n",
       "    <tr>\n",
       "      <th>1.3594.f00jdu1qa40nkp.1@mailer.realage.com</th>\n",
       "      <td>-0.625189</td>\n",
       "      <td>-0.074494</td>\n",
       "      <td>3</td>\n",
       "    </tr>\n",
       "    <tr>\n",
       "      <th>brapp@enron.com</th>\n",
       "      <td>-0.250097</td>\n",
       "      <td>0.202791</td>\n",
       "      <td>3</td>\n",
       "    </tr>\n",
       "    <tr>\n",
       "      <th>101qi@msn.com</th>\n",
       "      <td>-0.625189</td>\n",
       "      <td>-0.074494</td>\n",
       "      <td>3</td>\n",
       "    </tr>\n",
       "  </tbody>\n",
       "</table>\n",
       "</div>"
      ],
      "text/plain": [
       "                                                pca1      pca2  cluster\n",
       "1.10043390.2@multexinvestornetwork.com     -0.625174 -0.074500        3\n",
       "jwillia@enron.com                           0.737626  0.681640        3\n",
       "1.3594.f00jdu1qa40nkp.1@mailer.realage.com -0.625189 -0.074494        3\n",
       "brapp@enron.com                            -0.250097  0.202791        3\n",
       "101qi@msn.com                              -0.625189 -0.074494        3"
      ]
     },
     "execution_count": 35,
     "metadata": {},
     "output_type": "execute_result"
    }
   ],
   "source": [
    "from sklearn.decomposition import PCA\n",
    "\n",
    "#Use PCA to reduce dimensions of our dataset\n",
    "pca = PCA(n_components=2)\n",
    "\n",
    "#Fit the model to our data: \n",
    "pca.fit(df_scaled)\n",
    "\n",
    "#Transform the model data: \n",
    "x_pca = pca.transform(df_scaled)\n",
    "\n",
    "print(df_scaled.shape)\n",
    "print('\\n')\n",
    "print(x_pca.shape)\n",
    "\n",
    "#Add principal components to a dataframe we can use to plot individual points on our scatterplot\n",
    "df_pca = pd.DataFrame(index=df_scaled.index)\n",
    "df_pca['pca1'] = x_pca[:,0]\n",
    "df_pca['pca2'] = x_pca[:,1]\n",
    "df_pca['cluster'] = y_kmeans\n",
    "df_pca.head()"
   ]
  },
  {
   "cell_type": "code",
   "execution_count": 36,
   "metadata": {},
   "outputs": [
    {
     "data": {
      "image/png": "[encoded data removed]",
      "text/plain": [
       "<Figure size 1080x864 with 1 Axes>"
      ]
     },
     "metadata": {
      "needs_background": "light"
     },
     "output_type": "display_data"
    }
   ],
   "source": [
    "#Plot the cluster data, coloring the plot by cluster assignment: \n",
    "plt.figure(figsize = (15,12))\n",
    "plt.scatter(x_pca[y_kmeans==0,0],x_pca[y_kmeans==0,1], s = 40, alpha=.4, linewidths=.5, c = 'red', label = 'Cluster 1')\n",
    "plt.scatter(x_pca[y_kmeans==1,0],x_pca[y_kmeans==1,1], s = 40, alpha=.4, linewidths=.5, c = 'blue', label = 'Cluster 2')\n",
    "plt.scatter(x_pca[y_kmeans==2,0],x_pca[y_kmeans==2,1], s = 40, alpha=.4, linewidths=.5, c = 'darkred', label = 'Cluster 3')\n",
    "plt.scatter(x_pca[y_kmeans==3,0],x_pca[y_kmeans==3,1], s = 40, alpha=.4, linewidths=.5, c = 'cyan', label = 'Cluster 4')\n",
    "plt.scatter(x_pca[y_kmeans==4,0],x_pca[y_kmeans==4,1], s = 40, alpha=.4, linewidths=.5, c = 'magenta', label = 'Cluster 5')\n",
    "plt.scatter(x_pca[y_kmeans==5,0],x_pca[y_kmeans==5,1], s = 40, alpha=.4, linewidths=.5, c = 'gray', label = 'Cluster 6')\n",
    "plt.scatter(x_pca[y_kmeans==6,0],x_pca[y_kmeans==6,1], s = 40, alpha=.4, linewidths=.5, c = 'orange', label = 'Cluster 7')\n",
    "plt.scatter(x_pca[y_kmeans==7,0],x_pca[y_kmeans==7,1], s = 40, alpha=.4, linewidths=.5, c = 'pink', label = 'Cluster 8')\n",
    "plt.scatter(x_pca[y_kmeans==8,0],x_pca[y_kmeans==8,1], s = 40, alpha=.4, linewidths=.5, c = 'purple', label = 'Cluster 9')\n",
    "plt.scatter(x_pca[y_kmeans==9,0],x_pca[y_kmeans==9,1], s = 40, alpha=.4, linewidths=.5, c = 'lime', label = 'Cluster 10')\n",
    "\n",
    "plt.scatter(df_pca.loc['kenneth.lay@enron.com'][0], df_pca.loc['kenneth.lay@enron.com'][1], s = 200, linewidths=.5, c = 'black', marker = 'X', label = 'Ken Lay')\n",
    "plt.scatter(df_pca.loc['jeff.skilling@enron.com'][0], df_pca.loc['jeff.skilling@enron.com'][1], s = 200, linewidths=.5, c = 'black', marker = '^', label = 'Jeff Skilling')\n",
    "plt.scatter(df_pca.loc['andrew.fastow@enron.com'][0], df_pca.loc['andrew.fastow@enron.com'][1], s = 200, linewidths=.5, c = 'black', marker = 'P', label = 'Andrew Fastow')\n",
    "plt.scatter(df_pca.loc['lou.pai@enron.com'][0], df_pca.loc['lou.pai@enron.com'][1], s = 150, linewidths=.5, c = 'black',  marker = 'x', label = 'Lou Pai')\n",
    "plt.scatter(df_pca.loc['cliff.baxter@enron.com'][0], df_pca.loc['cliff.baxter@enron.com'][1], s = 150, linewidths=.5, c = 'black', marker = 'd', label = 'Cliff Baxter')\n",
    "\n",
    "\n",
    "#plt.scatter(ctr_pca10[:, 0], ctr_pca10[:, 1], s = 300, c = 'yellow', label = 'Centroids')\n",
    "plt.title('10 - Cluster Scaled KMeans Graph Feature Model', fontsize=20)\n",
    "plt.xlabel(\"First Principal Component\")\n",
    "plt.ylabel(\"Second Principal Component\")\n",
    "plt.legend()\n",
    "plt.show()"
   ]
  },
  {
   "cell_type": "markdown",
   "metadata": {},
   "source": [
    "### Which clusters contain Jeffrey Skilling, Ken Lay, Andrew Fastow, Lou Pai & J. Clifford Baxter?\n",
    "\n",
    "Given the rest of the graph statistics, will those be better cluster predictors for each person? "
   ]
  },
  {
   "cell_type": "code",
   "execution_count": 37,
   "metadata": {},
   "outputs": [
    {
     "name": "stdout",
     "output_type": "stream",
     "text": [
      "Cluster Assignments of Fraudsters Using All Graph Features via 10-Cluster Kmeans with feature scaling:\n",
      "-------------------------------------------------------------------------------------------------------\n",
      "Ken:  9\n",
      "Jeff:  7\n",
      "Andy:  6\n",
      "Lou:  0\n",
      "Cliff:  6\n",
      "\n",
      "\n",
      "Number of people in each cluster:\n",
      "---------------------------------\n",
      "Ken:   12\n",
      "Jeff:   15\n",
      "Andy & Cliff:   765\n",
      "Lou:   7936\n",
      "Everyone Else:   5413\n"
     ]
    }
   ],
   "source": [
    "ken_skmean = int(df_pca.loc['kenneth.lay@enron.com']['cluster'])\n",
    "jeff_skmean = int(df_pca.loc['jeff.skilling@enron.com']['cluster'])\n",
    "andy_skmean = int(df_pca.loc['andrew.fastow@enron.com']['cluster'])\n",
    "lou_skmean = int(df_pca.loc['lou.pai@enron.com']['cluster'])\n",
    "cliff_skmean = int(df_pca.loc['cliff.baxter@enron.com']['cluster'])\n",
    "\n",
    "print('Cluster Assignments of Fraudsters Using All Graph Features via 10-Cluster Kmeans with feature scaling:')\n",
    "print('-------------------------------------------------------------------------------------------------------')\n",
    "print('Ken:  ' + str(ken_skmean))\n",
    "print('Jeff:  ' + str(jeff_skmean))\n",
    "print('Andy:  ' + str(andy_skmean))\n",
    "print('Lou:  ' + str(lou_skmean))\n",
    "print('Cliff:  ' + str(cliff_skmean))\n",
    "\n",
    "print('\\n')\n",
    "#How many people are in each of these subsets? \n",
    "print('Number of people in each cluster:')\n",
    "print('---------------------------------')\n",
    "print(\"Ken:  \", len(df_pca[df_pca['cluster']==ken_skmean]))\n",
    "print(\"Jeff:  \", len(df_pca[df_pca['cluster']==jeff_skmean]))\n",
    "print(\"Andy & Cliff:  \", len(df_pca[df_pca['cluster']==andy_skmean]))\n",
    "print(\"Lou:  \", len(df_pca[df_pca['cluster']==lou_skmean]))\n",
    "\n",
    "print(\"Everyone Else:  \", len(df_pca) - len(df_pca[df_pca['cluster']==ken_skmean]) - len(df_pca[df_pca['cluster']==jeff_skmean])- len(df_pca[df_pca['cluster']==andy_skmean]) - len(df_pca[df_pca['cluster']==lou_skmean]))"
   ]
  },
  {
   "cell_type": "code",
   "execution_count": 38,
   "metadata": {},
   "outputs": [
    {
     "data": {
      "text/html": [
       "<div>\n",
       "<style scoped>\n",
       "    .dataframe tbody tr th:only-of-type {\n",
       "        vertical-align: middle;\n",
       "    }\n",
       "\n",
       "    .dataframe tbody tr th {\n",
       "        vertical-align: top;\n",
       "    }\n",
       "\n",
       "    .dataframe thead th {\n",
       "        text-align: right;\n",
       "    }\n",
       "</style>\n",
       "<table border=\"1\" class=\"dataframe\">\n",
       "  <thead>\n",
       "    <tr style=\"text-align: right;\">\n",
       "      <th></th>\n",
       "      <th>pca1</th>\n",
       "      <th>pca2</th>\n",
       "      <th>cluster</th>\n",
       "    </tr>\n",
       "  </thead>\n",
       "  <tbody>\n",
       "    <tr>\n",
       "      <th>john.lavorato@enron.com</th>\n",
       "      <td>29.035689</td>\n",
       "      <td>0.379653</td>\n",
       "      <td>9</td>\n",
       "    </tr>\n",
       "    <tr>\n",
       "      <th>louise.kitchen@enron.com</th>\n",
       "      <td>33.647745</td>\n",
       "      <td>7.020469</td>\n",
       "      <td>9</td>\n",
       "    </tr>\n",
       "    <tr>\n",
       "      <th>sally.beck@enron.com</th>\n",
       "      <td>42.715191</td>\n",
       "      <td>8.625413</td>\n",
       "      <td>9</td>\n",
       "    </tr>\n",
       "    <tr>\n",
       "      <th>richard.shapiro@enron.com</th>\n",
       "      <td>36.924771</td>\n",
       "      <td>5.766665</td>\n",
       "      <td>9</td>\n",
       "    </tr>\n",
       "    <tr>\n",
       "      <th>chris.germany@enron.com</th>\n",
       "      <td>26.133196</td>\n",
       "      <td>0.166590</td>\n",
       "      <td>9</td>\n",
       "    </tr>\n",
       "    <tr>\n",
       "      <th>kenneth.lay@enron.com</th>\n",
       "      <td>25.742593</td>\n",
       "      <td>10.384272</td>\n",
       "      <td>9</td>\n",
       "    </tr>\n",
       "    <tr>\n",
       "      <th>daren.farmer@enron.com</th>\n",
       "      <td>26.399085</td>\n",
       "      <td>9.491518</td>\n",
       "      <td>9</td>\n",
       "    </tr>\n",
       "    <tr>\n",
       "      <th>benjamin.rogers@enron.com</th>\n",
       "      <td>26.689638</td>\n",
       "      <td>6.765668</td>\n",
       "      <td>9</td>\n",
       "    </tr>\n",
       "    <tr>\n",
       "      <th>kate.symes@enron.com</th>\n",
       "      <td>26.914534</td>\n",
       "      <td>7.953967</td>\n",
       "      <td>9</td>\n",
       "    </tr>\n",
       "    <tr>\n",
       "      <th>mark.taylor@enron.com</th>\n",
       "      <td>35.562242</td>\n",
       "      <td>10.534773</td>\n",
       "      <td>9</td>\n",
       "    </tr>\n",
       "    <tr>\n",
       "      <th>gerald.nemec@enron.com</th>\n",
       "      <td>33.727998</td>\n",
       "      <td>7.325059</td>\n",
       "      <td>9</td>\n",
       "    </tr>\n",
       "    <tr>\n",
       "      <th>all.worldwide@enron.com</th>\n",
       "      <td>21.843996</td>\n",
       "      <td>13.934525</td>\n",
       "      <td>9</td>\n",
       "    </tr>\n",
       "  </tbody>\n",
       "</table>\n",
       "</div>"
      ],
      "text/plain": [
       "                                pca1       pca2  cluster\n",
       "john.lavorato@enron.com    29.035689   0.379653        9\n",
       "louise.kitchen@enron.com   33.647745   7.020469        9\n",
       "sally.beck@enron.com       42.715191   8.625413        9\n",
       "richard.shapiro@enron.com  36.924771   5.766665        9\n",
       "chris.germany@enron.com    26.133196   0.166590        9\n",
       "kenneth.lay@enron.com      25.742593  10.384272        9\n",
       "daren.farmer@enron.com     26.399085   9.491518        9\n",
       "benjamin.rogers@enron.com  26.689638   6.765668        9\n",
       "kate.symes@enron.com       26.914534   7.953967        9\n",
       "mark.taylor@enron.com      35.562242  10.534773        9\n",
       "gerald.nemec@enron.com     33.727998   7.325059        9\n",
       "all.worldwide@enron.com    21.843996  13.934525        9"
      ]
     },
     "execution_count": 38,
     "metadata": {},
     "output_type": "execute_result"
    }
   ],
   "source": [
    "#Who is in the same cluster with Ken? \n",
    "df_pca[df_pca['cluster']==ken_skmean]"
   ]
  },
  {
   "cell_type": "code",
   "execution_count": 39,
   "metadata": {},
   "outputs": [
    {
     "data": {
      "text/html": [
       "<div>\n",
       "<style scoped>\n",
       "    .dataframe tbody tr th:only-of-type {\n",
       "        vertical-align: middle;\n",
       "    }\n",
       "\n",
       "    .dataframe tbody tr th {\n",
       "        vertical-align: top;\n",
       "    }\n",
       "\n",
       "    .dataframe thead th {\n",
       "        text-align: right;\n",
       "    }\n",
       "</style>\n",
       "<table border=\"1\" class=\"dataframe\">\n",
       "  <thead>\n",
       "    <tr style=\"text-align: right;\">\n",
       "      <th></th>\n",
       "      <th>pca1</th>\n",
       "      <th>pca2</th>\n",
       "      <th>cluster</th>\n",
       "    </tr>\n",
       "  </thead>\n",
       "  <tbody>\n",
       "    <tr>\n",
       "      <th>david.forster@enron.com</th>\n",
       "      <td>19.615911</td>\n",
       "      <td>-19.087867</td>\n",
       "      <td>7</td>\n",
       "    </tr>\n",
       "    <tr>\n",
       "      <th>jeff.skilling@enron.com</th>\n",
       "      <td>32.297922</td>\n",
       "      <td>-27.929582</td>\n",
       "      <td>7</td>\n",
       "    </tr>\n",
       "    <tr>\n",
       "      <th>outlook.team@enron.com</th>\n",
       "      <td>13.587436</td>\n",
       "      <td>-21.155044</td>\n",
       "      <td>7</td>\n",
       "    </tr>\n",
       "    <tr>\n",
       "      <th>araceli.romero@enron.com</th>\n",
       "      <td>10.352440</td>\n",
       "      <td>-17.143297</td>\n",
       "      <td>7</td>\n",
       "    </tr>\n",
       "    <tr>\n",
       "      <th>rosalee.fleming@enron.com</th>\n",
       "      <td>23.987375</td>\n",
       "      <td>-32.141899</td>\n",
       "      <td>7</td>\n",
       "    </tr>\n",
       "    <tr>\n",
       "      <th>cheryl.johnson@enron.com</th>\n",
       "      <td>12.186224</td>\n",
       "      <td>-18.835995</td>\n",
       "      <td>7</td>\n",
       "    </tr>\n",
       "    <tr>\n",
       "      <th>rhonda.denton@enron.com</th>\n",
       "      <td>10.817829</td>\n",
       "      <td>-14.221347</td>\n",
       "      <td>7</td>\n",
       "    </tr>\n",
       "    <tr>\n",
       "      <th>veronica.espinoza@enron.com</th>\n",
       "      <td>16.946512</td>\n",
       "      <td>-24.975564</td>\n",
       "      <td>7</td>\n",
       "    </tr>\n",
       "    <tr>\n",
       "      <th>liz.taylor@enron.com</th>\n",
       "      <td>16.460291</td>\n",
       "      <td>-21.036156</td>\n",
       "      <td>7</td>\n",
       "    </tr>\n",
       "    <tr>\n",
       "      <th>thomas.engel@enron.com</th>\n",
       "      <td>8.998220</td>\n",
       "      <td>-15.095410</td>\n",
       "      <td>7</td>\n",
       "    </tr>\n",
       "    <tr>\n",
       "      <th>lisa.costello@enron.com</th>\n",
       "      <td>11.698995</td>\n",
       "      <td>-19.513630</td>\n",
       "      <td>7</td>\n",
       "    </tr>\n",
       "    <tr>\n",
       "      <th>daniel.muschar@enron.com</th>\n",
       "      <td>15.687162</td>\n",
       "      <td>-27.143245</td>\n",
       "      <td>7</td>\n",
       "    </tr>\n",
       "    <tr>\n",
       "      <th>gjb2@pge.com</th>\n",
       "      <td>10.151159</td>\n",
       "      <td>-18.160621</td>\n",
       "      <td>7</td>\n",
       "    </tr>\n",
       "    <tr>\n",
       "      <th>r..harrington@enron.com</th>\n",
       "      <td>9.093199</td>\n",
       "      <td>-16.696589</td>\n",
       "      <td>7</td>\n",
       "    </tr>\n",
       "    <tr>\n",
       "      <th>technology.enron@enron.com</th>\n",
       "      <td>12.848733</td>\n",
       "      <td>-23.119165</td>\n",
       "      <td>7</td>\n",
       "    </tr>\n",
       "  </tbody>\n",
       "</table>\n",
       "</div>"
      ],
      "text/plain": [
       "                                  pca1       pca2  cluster\n",
       "david.forster@enron.com      19.615911 -19.087867        7\n",
       "jeff.skilling@enron.com      32.297922 -27.929582        7\n",
       "outlook.team@enron.com       13.587436 -21.155044        7\n",
       "araceli.romero@enron.com     10.352440 -17.143297        7\n",
       "rosalee.fleming@enron.com    23.987375 -32.141899        7\n",
       "cheryl.johnson@enron.com     12.186224 -18.835995        7\n",
       "rhonda.denton@enron.com      10.817829 -14.221347        7\n",
       "veronica.espinoza@enron.com  16.946512 -24.975564        7\n",
       "liz.taylor@enron.com         16.460291 -21.036156        7\n",
       "thomas.engel@enron.com        8.998220 -15.095410        7\n",
       "lisa.costello@enron.com      11.698995 -19.513630        7\n",
       "daniel.muschar@enron.com     15.687162 -27.143245        7\n",
       "gjb2@pge.com                 10.151159 -18.160621        7\n",
       "r..harrington@enron.com       9.093199 -16.696589        7\n",
       "technology.enron@enron.com   12.848733 -23.119165        7"
      ]
     },
     "execution_count": 39,
     "metadata": {},
     "output_type": "execute_result"
    }
   ],
   "source": [
    "#Who is in the same cluster with Jeff? \n",
    "df_pca[df_pca['cluster']==jeff_skmean]"
   ]
  },
  {
   "cell_type": "markdown",
   "metadata": {},
   "source": [
    "### Try KMeans without feature scaling: "
   ]
  },
  {
   "cell_type": "code",
   "execution_count": 40,
   "metadata": {},
   "outputs": [
    {
     "data": {
      "image/png": "[encoded data removed]",
      "text/plain": [
       "<Figure size 432x288 with 1 Axes>"
      ]
     },
     "metadata": {
      "needs_background": "light"
     },
     "output_type": "display_data"
    }
   ],
   "source": [
    "#Find optimal clusters of scaled data (This takes some time): \n",
    "wcss = []\n",
    "for i in range(1, 20):\n",
    "    kmeans = KMeans(n_clusters = i, init = 'k-means++', random_state = 42)\n",
    "    kmeans.fit(df_hot)\n",
    "    wcss.append(kmeans.inertia_)\n",
    "plt.plot(range(1, 20), wcss)\n",
    "plt.title('KMeans Optimal Clusters_Unscaled')\n",
    "plt.xlabel('Number of clusters')\n",
    "plt.ylabel('WCSS')\n",
    "plt.show()"
   ]
  },
  {
   "cell_type": "code",
   "execution_count": 41,
   "metadata": {},
   "outputs": [
    {
     "name": "stdout",
     "output_type": "stream",
     "text": [
      "[0 0 0 ... 0 0 0]\n"
     ]
    }
   ],
   "source": [
    "#Select the 6-cluster model and view results: \n",
    "kmeans = KMeans(n_clusters = 6, init = 'k-means++', random_state = 42)\n",
    "#Create the dependent variable, which are the clusters KMeans assigns to each person\n",
    "y_kmeans = kmeans.fit_predict(df_hot)\n",
    "\n",
    "#Check out cluster assignments\n",
    "print(y_kmeans)"
   ]
  },
  {
   "cell_type": "markdown",
   "metadata": {},
   "source": [
    "### Visualize"
   ]
  },
  {
   "cell_type": "code",
   "execution_count": 42,
   "metadata": {},
   "outputs": [
    {
     "name": "stdout",
     "output_type": "stream",
     "text": [
      "(14141, 208)\n",
      "\n",
      "\n",
      "(14141, 2)\n"
     ]
    },
    {
     "data": {
      "text/html": [
       "<div>\n",
       "<style scoped>\n",
       "    .dataframe tbody tr th:only-of-type {\n",
       "        vertical-align: middle;\n",
       "    }\n",
       "\n",
       "    .dataframe tbody tr th {\n",
       "        vertical-align: top;\n",
       "    }\n",
       "\n",
       "    .dataframe thead th {\n",
       "        text-align: right;\n",
       "    }\n",
       "</style>\n",
       "<table border=\"1\" class=\"dataframe\">\n",
       "  <thead>\n",
       "    <tr style=\"text-align: right;\">\n",
       "      <th></th>\n",
       "      <th>pca1</th>\n",
       "      <th>pca2</th>\n",
       "      <th>cluster</th>\n",
       "    </tr>\n",
       "  </thead>\n",
       "  <tbody>\n",
       "    <tr>\n",
       "      <th>1.10043390.2@multexinvestornetwork.com</th>\n",
       "      <td>0.224181</td>\n",
       "      <td>-0.672298</td>\n",
       "      <td>0</td>\n",
       "    </tr>\n",
       "    <tr>\n",
       "      <th>jwillia@enron.com</th>\n",
       "      <td>0.473950</td>\n",
       "      <td>2.479971</td>\n",
       "      <td>0</td>\n",
       "    </tr>\n",
       "    <tr>\n",
       "      <th>1.3594.f00jdu1qa40nkp.1@mailer.realage.com</th>\n",
       "      <td>0.224181</td>\n",
       "      <td>-0.672299</td>\n",
       "      <td>0</td>\n",
       "    </tr>\n",
       "    <tr>\n",
       "      <th>brapp@enron.com</th>\n",
       "      <td>-0.306388</td>\n",
       "      <td>0.638577</td>\n",
       "      <td>0</td>\n",
       "    </tr>\n",
       "    <tr>\n",
       "      <th>101qi@msn.com</th>\n",
       "      <td>0.224181</td>\n",
       "      <td>-0.672299</td>\n",
       "      <td>0</td>\n",
       "    </tr>\n",
       "  </tbody>\n",
       "</table>\n",
       "</div>"
      ],
      "text/plain": [
       "                                                pca1      pca2  cluster\n",
       "1.10043390.2@multexinvestornetwork.com      0.224181 -0.672298        0\n",
       "jwillia@enron.com                           0.473950  2.479971        0\n",
       "1.3594.f00jdu1qa40nkp.1@mailer.realage.com  0.224181 -0.672299        0\n",
       "brapp@enron.com                            -0.306388  0.638577        0\n",
       "101qi@msn.com                               0.224181 -0.672299        0"
      ]
     },
     "execution_count": 42,
     "metadata": {},
     "output_type": "execute_result"
    }
   ],
   "source": [
    "#Use PCA to reduce dimensions of our dataset\n",
    "pca = PCA(n_components=2)\n",
    "\n",
    "#Fit the model to our data: \n",
    "pca.fit(df_hot)\n",
    "\n",
    "#Transform the model data: \n",
    "x_pca = pca.transform(df_hot)\n",
    "\n",
    "print(df_hot.shape)\n",
    "print('\\n')\n",
    "print(x_pca.shape)\n",
    "\n",
    "#Add principal components to a dataframe we can use to plot individual points on our scatterplot\n",
    "df_pca2 = pd.DataFrame(index=df_hot.index)\n",
    "df_pca2['pca1'] = x_pca[:,0]\n",
    "df_pca2['pca2'] = x_pca[:,1]\n",
    "df_pca2['cluster'] = y_kmeans\n",
    "df_pca2.head()"
   ]
  },
  {
   "cell_type": "code",
   "execution_count": 43,
   "metadata": {},
   "outputs": [
    {
     "data": {
      "image/png": "[encoded data removed]",
      "text/plain": [
       "<Figure size 1080x864 with 1 Axes>"
      ]
     },
     "metadata": {
      "needs_background": "light"
     },
     "output_type": "display_data"
    }
   ],
   "source": [
    "#Plot the cluster data, coloring the plot by cluster assignment: \n",
    "plt.figure(figsize = (15,12))\n",
    "plt.scatter(x_pca[y_kmeans==0,0],x_pca[y_kmeans==0,1], s = 40, alpha=.4, linewidths=.5, c = 'red', label = 'Cluster 1')\n",
    "plt.scatter(x_pca[y_kmeans==1,0],x_pca[y_kmeans==1,1], s = 40, alpha=.4, linewidths=.5, c = 'blue', label = 'Cluster 2')\n",
    "plt.scatter(x_pca[y_kmeans==2,0],x_pca[y_kmeans==2,1], s = 40, alpha=.4, linewidths=.5, c = 'darkred', label = 'Cluster 3')\n",
    "plt.scatter(x_pca[y_kmeans==3,0],x_pca[y_kmeans==3,1], s = 40, alpha=.4, linewidths=.5, c = 'cyan', label = 'Cluster 4')\n",
    "plt.scatter(x_pca[y_kmeans==4,0],x_pca[y_kmeans==4,1], s = 40, alpha=.4, linewidths=.5, c = 'magenta', label = 'Cluster 5')\n",
    "plt.scatter(x_pca[y_kmeans==5,0],x_pca[y_kmeans==5,1], s = 40, alpha=.4, linewidths=.5, c = 'gray', label = 'Cluster 6')\n",
    "\n",
    "\n",
    "plt.scatter(df_pca2.loc['kenneth.lay@enron.com'][0], df_pca2.loc['kenneth.lay@enron.com'][1], s = 200, linewidths=.5, c = 'black', marker = 'X', label = 'Ken Lay')\n",
    "plt.scatter(df_pca2.loc['jeff.skilling@enron.com'][0], df_pca2.loc['jeff.skilling@enron.com'][1], s = 200, linewidths=.5, c = 'black', marker = '^', label = 'Jeff Skilling')\n",
    "plt.scatter(df_pca2.loc['andrew.fastow@enron.com'][0], df_pca2.loc['andrew.fastow@enron.com'][1], s = 200, linewidths=.5, c = 'black', marker = 'P', label = 'Andrew Fastow')\n",
    "plt.scatter(df_pca2.loc['lou.pai@enron.com'][0], df_pca2.loc['lou.pai@enron.com'][1], s = 150, linewidths=.5, c = 'black',  marker = 'x', label = 'Lou Pai')\n",
    "plt.scatter(df_pca2.loc['cliff.baxter@enron.com'][0], df_pca2.loc['cliff.baxter@enron.com'][1], s = 150, linewidths=.5, c = 'black', marker = 'd', label = 'Cliff Baxter')\n",
    "\n",
    "\n",
    "#plt.scatter(ctr_pca10[:, 0], ctr_pca10[:, 1], s = 300, c = 'yellow', label = 'Centroids')\n",
    "plt.title('6 - Cluster Graph Model of Enron employees and contacts (Unscaled)', fontsize=20)\n",
    "plt.xlabel(\"First Principal Component\")\n",
    "plt.ylabel(\"Second Principal Component\")\n",
    "plt.legend()\n",
    "plt.show()"
   ]
  },
  {
   "cell_type": "code",
   "execution_count": 44,
   "metadata": {},
   "outputs": [],
   "source": [
    "### Let's find out which cluster Jeffrey Skilling, Ken Lay, Andrew Fastow, Lou Pai & J. Clifford Baxter are in. "
   ]
  },
  {
   "cell_type": "code",
   "execution_count": 45,
   "metadata": {},
   "outputs": [
    {
     "name": "stdout",
     "output_type": "stream",
     "text": [
      "Cluster Assignments of Fraudsters Using All Graph Features via 6-Cluster Kmeans without feature scaling:\n",
      "-------------------------------------------------------------------------------------------------------\n",
      "Ken:  5\n",
      "Jeff:  3\n",
      "Andy:  0\n",
      "Lou:  0\n",
      "Cliff:  0\n",
      "\n",
      "\n",
      "Number of people in each cluster:\n",
      "--------------------------------\n",
      "Ken:   6\n",
      "Jeff:   239\n",
      "Andy, Lou, & Cliff:   13863\n",
      "Everyone Else:   33\n"
     ]
    }
   ],
   "source": [
    "ken_kmean = int(df_pca2.loc['kenneth.lay@enron.com']['cluster'])\n",
    "jeff_kmean = int(df_pca2.loc['jeff.skilling@enron.com']['cluster'])\n",
    "andy_kmean = int(df_pca2.loc['andrew.fastow@enron.com']['cluster'])\n",
    "lou_kmean = int(df_pca2.loc['lou.pai@enron.com']['cluster'])\n",
    "cliff_kmean = int(df_pca2.loc['cliff.baxter@enron.com']['cluster'])\n",
    "\n",
    "print('Cluster Assignments of Fraudsters Using All Graph Features via 6-Cluster Kmeans without feature scaling:')\n",
    "print('-------------------------------------------------------------------------------------------------------')\n",
    "print('Ken:  ' + str(ken_kmean))\n",
    "print('Jeff:  ' + str(jeff_kmean))\n",
    "print('Andy:  ' + str(andy_kmean))\n",
    "print('Lou:  ' + str(lou_kmean))\n",
    "print('Cliff:  ' + str(cliff_kmean))\n",
    "print('\\n')\n",
    "\n",
    "#How many people are in each of these subsets?\n",
    "print('Number of people in each cluster:')\n",
    "print('--------------------------------')\n",
    "print(\"Ken:  \", len(df_pca2[df_pca2['cluster']==ken_kmean]))\n",
    "print(\"Jeff:  \", len(df_pca2[df_pca2['cluster']==jeff_kmean]))\n",
    "print(\"Andy, Lou, & Cliff:  \", len(df_pca2[df_pca2['cluster']==andy_kmean]))\n",
    "\n",
    "print(\"Everyone Else:  \", len(df_pca) - len(df_pca2[df_pca2['cluster']==ken_kmean]) - len(df_pca2[df_pca2['cluster']==jeff_kmean])- len(df_pca2[df_pca2['cluster']==andy_kmean]))"
   ]
  },
  {
   "cell_type": "markdown",
   "metadata": {},
   "source": [
    "# Which Graph ML model do you think is best? Why? \n",
    "\n",
    "### Proceed to \"3_Ensemble_Pipeline_LunchLearn.ipynb\""
   ]
  }
 ],
 "metadata": {
  "kernelspec": {
   "display_name": "fluffy2",
   "language": "python",
   "name": "fluffy2"
  },
  "language_info": {
   "codemirror_mode": {
    "name": "ipython",
    "version": 3
   },
   "file_extension": ".py",
   "mimetype": "text/x-python",
   "name": "python",
   "nbconvert_exporter": "python",
   "pygments_lexer": "ipython3",
   "version": "3.8.5"
  }
 },
 "nbformat": 4,
 "nbformat_minor": 4
}
